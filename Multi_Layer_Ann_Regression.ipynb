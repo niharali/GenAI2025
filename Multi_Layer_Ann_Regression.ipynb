{
  "nbformat": 4,
  "nbformat_minor": 0,
  "metadata": {
    "colab": {
      "provenance": [],
      "authorship_tag": "ABX9TyNjCOGoxfftzbfE257A24Y3",
      "include_colab_link": true
    },
    "kernelspec": {
      "name": "python3",
      "display_name": "Python 3"
    },
    "language_info": {
      "name": "python"
    }
  },
  "cells": [
    {
      "cell_type": "markdown",
      "metadata": {
        "id": "view-in-github",
        "colab_type": "text"
      },
      "source": [
        "<a href=\"https://colab.research.google.com/github/niharali/GenAI2025/blob/main/Multi_Layer_Ann_Regression.ipynb\" target=\"_parent\"><img src=\"https://colab.research.google.com/assets/colab-badge.svg\" alt=\"Open In Colab\"/></a>"
      ]
    },
    {
      "cell_type": "code",
      "execution_count": 1,
      "metadata": {
        "id": "b5EZBKaWite6"
      },
      "outputs": [],
      "source": [
        "import numpy as np\n",
        "from sklearn.model_selection import train_test_split\n",
        "from sklearn.preprocessing import StandardScaler\n",
        "from keras.models import Sequential\n",
        "from keras.layers import Dense"
      ]
    },
    {
      "cell_type": "code",
      "source": [
        "# Generating synthetic data (car features and prices for simplicity)\n",
        "np.random.seed(42)\n",
        "# Features: [Engine size (liters), Fuel efficiency (mpg), Age (years), Mileage (miles)]\n",
        "X = np.random.rand(1000, 4) * [4, 50, 10, 200000]  # 1000 samples, 4 features\n",
        "# Target: Car prices (e.g., in USD)\n",
        "y = (X[:, 0] * 15000 + X[:, 1] * 200 + X[:, 2] * -500 + X[:, 3] * -0.1 + 20000) + np.random.randn(1000) * 1000"
      ],
      "metadata": {
        "id": "WIrs-Ow0iubB"
      },
      "execution_count": 2,
      "outputs": []
    },
    {
      "cell_type": "code",
      "source": [
        "# Splitting data into training and testing sets\n",
        "X_train, X_test, y_train, y_test = train_test_split(X, y, test_size=0.2, random_state=42)"
      ],
      "metadata": {
        "id": "ZBWv8enXi1BR"
      },
      "execution_count": 3,
      "outputs": []
    },
    {
      "cell_type": "code",
      "source": [
        "# Standardizing the data (important for neural networks)\n",
        "scaler = StandardScaler()\n",
        "X_train = scaler.fit_transform(X_train)\n",
        "X_test = scaler.transform(X_test)"
      ],
      "metadata": {
        "id": "mCAhaZ6ki6e0"
      },
      "execution_count": 4,
      "outputs": []
    },
    {
      "cell_type": "code",
      "source": [
        "# Building the Multi-Layer ANN model\n",
        "model = Sequential()\n",
        "model.add(Dense(64, input_dim=X_train.shape[1], activation='relu'))  # Hidden layer 1\n",
        "model.add(Dense(32, activation='relu'))  # Hidden layer 2\n",
        "model.add(Dense(1, activation='linear'))  # Output layer for regression"
      ],
      "metadata": {
        "colab": {
          "base_uri": "https://localhost:8080/"
        },
        "id": "TdDfKuOmi7hF",
        "outputId": "eaacb9b6-f70e-464f-9e98-17ebe7e7ac7c"
      },
      "execution_count": 5,
      "outputs": [
        {
          "output_type": "stream",
          "name": "stderr",
          "text": [
            "/usr/local/lib/python3.11/dist-packages/keras/src/layers/core/dense.py:87: UserWarning: Do not pass an `input_shape`/`input_dim` argument to a layer. When using Sequential models, prefer using an `Input(shape)` object as the first layer in the model instead.\n",
            "  super().__init__(activity_regularizer=activity_regularizer, **kwargs)\n"
          ]
        }
      ]
    },
    {
      "cell_type": "code",
      "source": [
        "# Compiling the model with Mean Squared Error (MSE) as the loss function\n",
        "model.compile(optimizer='adam', loss='mean_squared_error', metrics=['mean_absolute_error'])"
      ],
      "metadata": {
        "id": "lwjiqa1ci9pf"
      },
      "execution_count": 6,
      "outputs": []
    },
    {
      "cell_type": "code",
      "source": [
        "# Training the model\n",
        "history = model.fit(X_train, y_train, epochs=50, batch_size=32, validation_split=0.2, verbose=1)"
      ],
      "metadata": {
        "colab": {
          "base_uri": "https://localhost:8080/"
        },
        "id": "Erc3tMc9jAmG",
        "outputId": "70a9e9a6-8a41-4678-8517-09bdb0535c89"
      },
      "execution_count": 7,
      "outputs": [
        {
          "output_type": "stream",
          "name": "stdout",
          "text": [
            "Epoch 1/50\n",
            "\u001b[1m20/20\u001b[0m \u001b[32m━━━━━━━━━━━━━━━━━━━━\u001b[0m\u001b[37m\u001b[0m \u001b[1m3s\u001b[0m 30ms/step - loss: 2191964672.0000 - mean_absolute_error: 43030.4922 - val_loss: 2271973888.0000 - val_mean_absolute_error: 43873.9883\n",
            "Epoch 2/50\n",
            "\u001b[1m20/20\u001b[0m \u001b[32m━━━━━━━━━━━━━━━━━━━━\u001b[0m\u001b[37m\u001b[0m \u001b[1m0s\u001b[0m 6ms/step - loss: 2247172864.0000 - mean_absolute_error: 43658.4141 - val_loss: 2271898624.0000 - val_mean_absolute_error: 43873.1523\n",
            "Epoch 3/50\n",
            "\u001b[1m20/20\u001b[0m \u001b[32m━━━━━━━━━━━━━━━━━━━━\u001b[0m\u001b[37m\u001b[0m \u001b[1m0s\u001b[0m 5ms/step - loss: 2143271168.0000 - mean_absolute_error: 42457.6172 - val_loss: 2271785728.0000 - val_mean_absolute_error: 43871.9141\n",
            "Epoch 4/50\n",
            "\u001b[1m20/20\u001b[0m \u001b[32m━━━━━━━━━━━━━━━━━━━━\u001b[0m\u001b[37m\u001b[0m \u001b[1m0s\u001b[0m 5ms/step - loss: 2235320320.0000 - mean_absolute_error: 43235.0664 - val_loss: 2271600128.0000 - val_mean_absolute_error: 43869.9297\n",
            "Epoch 5/50\n",
            "\u001b[1m20/20\u001b[0m \u001b[32m━━━━━━━━━━━━━━━━━━━━\u001b[0m\u001b[37m\u001b[0m \u001b[1m0s\u001b[0m 4ms/step - loss: 2132399104.0000 - mean_absolute_error: 42142.1406 - val_loss: 2271304704.0000 - val_mean_absolute_error: 43866.8008\n",
            "Epoch 6/50\n",
            "\u001b[1m20/20\u001b[0m \u001b[32m━━━━━━━━━━━━━━━━━━━━\u001b[0m\u001b[37m\u001b[0m \u001b[1m0s\u001b[0m 5ms/step - loss: 2053187328.0000 - mean_absolute_error: 41182.7734 - val_loss: 2270851584.0000 - val_mean_absolute_error: 43862.0664\n",
            "Epoch 7/50\n",
            "\u001b[1m20/20\u001b[0m \u001b[32m━━━━━━━━━━━━━━━━━━━━\u001b[0m\u001b[37m\u001b[0m \u001b[1m0s\u001b[0m 5ms/step - loss: 2072841216.0000 - mean_absolute_error: 41747.5938 - val_loss: 2270183424.0000 - val_mean_absolute_error: 43855.1680\n",
            "Epoch 8/50\n",
            "\u001b[1m20/20\u001b[0m \u001b[32m━━━━━━━━━━━━━━━━━━━━\u001b[0m\u001b[37m\u001b[0m \u001b[1m0s\u001b[0m 6ms/step - loss: 2188083712.0000 - mean_absolute_error: 42958.5312 - val_loss: 2269246208.0000 - val_mean_absolute_error: 43845.6250\n",
            "Epoch 9/50\n",
            "\u001b[1m20/20\u001b[0m \u001b[32m━━━━━━━━━━━━━━━━━━━━\u001b[0m\u001b[37m\u001b[0m \u001b[1m0s\u001b[0m 3ms/step - loss: 2119479680.0000 - mean_absolute_error: 42033.3789 - val_loss: 2267996672.0000 - val_mean_absolute_error: 43832.9922\n",
            "Epoch 10/50\n",
            "\u001b[1m20/20\u001b[0m \u001b[32m━━━━━━━━━━━━━━━━━━━━\u001b[0m\u001b[37m\u001b[0m \u001b[1m0s\u001b[0m 2ms/step - loss: 2165158912.0000 - mean_absolute_error: 42585.4531 - val_loss: 2266348800.0000 - val_mean_absolute_error: 43816.5391\n",
            "Epoch 11/50\n",
            "\u001b[1m20/20\u001b[0m \u001b[32m━━━━━━━━━━━━━━━━━━━━\u001b[0m\u001b[37m\u001b[0m \u001b[1m0s\u001b[0m 2ms/step - loss: 2194896896.0000 - mean_absolute_error: 42861.3867 - val_loss: 2264280576.0000 - val_mean_absolute_error: 43796.0117\n",
            "Epoch 12/50\n",
            "\u001b[1m20/20\u001b[0m \u001b[32m━━━━━━━━━━━━━━━━━━━━\u001b[0m\u001b[37m\u001b[0m \u001b[1m0s\u001b[0m 3ms/step - loss: 2146795648.0000 - mean_absolute_error: 42476.6328 - val_loss: 2261719552.0000 - val_mean_absolute_error: 43770.8242\n",
            "Epoch 13/50\n",
            "\u001b[1m20/20\u001b[0m \u001b[32m━━━━━━━━━━━━━━━━━━━━\u001b[0m\u001b[37m\u001b[0m \u001b[1m0s\u001b[0m 3ms/step - loss: 2125330816.0000 - mean_absolute_error: 42156.2500 - val_loss: 2258612224.0000 - val_mean_absolute_error: 43740.4883\n",
            "Epoch 14/50\n",
            "\u001b[1m20/20\u001b[0m \u001b[32m━━━━━━━━━━━━━━━━━━━━\u001b[0m\u001b[37m\u001b[0m \u001b[1m0s\u001b[0m 3ms/step - loss: 2067219968.0000 - mean_absolute_error: 41559.0508 - val_loss: 2254897408.0000 - val_mean_absolute_error: 43704.5352\n",
            "Epoch 15/50\n",
            "\u001b[1m20/20\u001b[0m \u001b[32m━━━━━━━━━━━━━━━━━━━━\u001b[0m\u001b[37m\u001b[0m \u001b[1m0s\u001b[0m 3ms/step - loss: 2082913408.0000 - mean_absolute_error: 41785.2969 - val_loss: 2250483200.0000 - val_mean_absolute_error: 43662.1484\n",
            "Epoch 16/50\n",
            "\u001b[1m20/20\u001b[0m \u001b[32m━━━━━━━━━━━━━━━━━━━━\u001b[0m\u001b[37m\u001b[0m \u001b[1m0s\u001b[0m 2ms/step - loss: 2073095424.0000 - mean_absolute_error: 41602.7773 - val_loss: 2245355008.0000 - val_mean_absolute_error: 43613.1484\n",
            "Epoch 17/50\n",
            "\u001b[1m20/20\u001b[0m \u001b[32m━━━━━━━━━━━━━━━━━━━━\u001b[0m\u001b[37m\u001b[0m \u001b[1m0s\u001b[0m 3ms/step - loss: 2052264320.0000 - mean_absolute_error: 41459.4688 - val_loss: 2239562240.0000 - val_mean_absolute_error: 43557.9922\n",
            "Epoch 18/50\n",
            "\u001b[1m20/20\u001b[0m \u001b[32m━━━━━━━━━━━━━━━━━━━━\u001b[0m\u001b[37m\u001b[0m \u001b[1m0s\u001b[0m 3ms/step - loss: 2048733056.0000 - mean_absolute_error: 41373.5508 - val_loss: 2232899072.0000 - val_mean_absolute_error: 43495.0234\n",
            "Epoch 19/50\n",
            "\u001b[1m20/20\u001b[0m \u001b[32m━━━━━━━━━━━━━━━━━━━━\u001b[0m\u001b[37m\u001b[0m \u001b[1m0s\u001b[0m 3ms/step - loss: 2112981120.0000 - mean_absolute_error: 42260.9453 - val_loss: 2225379840.0000 - val_mean_absolute_error: 43423.8945\n",
            "Epoch 20/50\n",
            "\u001b[1m20/20\u001b[0m \u001b[32m━━━━━━━━━━━━━━━━━━━━\u001b[0m\u001b[37m\u001b[0m \u001b[1m0s\u001b[0m 3ms/step - loss: 2088135296.0000 - mean_absolute_error: 41690.0547 - val_loss: 2217046016.0000 - val_mean_absolute_error: 43345.3438\n",
            "Epoch 21/50\n",
            "\u001b[1m20/20\u001b[0m \u001b[32m━━━━━━━━━━━━━━━━━━━━\u001b[0m\u001b[37m\u001b[0m \u001b[1m0s\u001b[0m 4ms/step - loss: 2091816704.0000 - mean_absolute_error: 41909.3711 - val_loss: 2207815680.0000 - val_mean_absolute_error: 43258.5508\n",
            "Epoch 22/50\n",
            "\u001b[1m20/20\u001b[0m \u001b[32m━━━━━━━━━━━━━━━━━━━━\u001b[0m\u001b[37m\u001b[0m \u001b[1m0s\u001b[0m 2ms/step - loss: 2039378304.0000 - mean_absolute_error: 41368.7969 - val_loss: 2197526272.0000 - val_mean_absolute_error: 43161.9648\n",
            "Epoch 23/50\n",
            "\u001b[1m20/20\u001b[0m \u001b[32m━━━━━━━━━━━━━━━━━━━━\u001b[0m\u001b[37m\u001b[0m \u001b[1m0s\u001b[0m 2ms/step - loss: 2110759808.0000 - mean_absolute_error: 41989.4766 - val_loss: 2186278400.0000 - val_mean_absolute_error: 43056.3906\n",
            "Epoch 24/50\n",
            "\u001b[1m20/20\u001b[0m \u001b[32m━━━━━━━━━━━━━━━━━━━━\u001b[0m\u001b[37m\u001b[0m \u001b[1m0s\u001b[0m 2ms/step - loss: 2015959680.0000 - mean_absolute_error: 40934.0938 - val_loss: 2174229504.0000 - val_mean_absolute_error: 42943.0234\n",
            "Epoch 25/50\n",
            "\u001b[1m20/20\u001b[0m \u001b[32m━━━━━━━━━━━━━━━━━━━━\u001b[0m\u001b[37m\u001b[0m \u001b[1m0s\u001b[0m 3ms/step - loss: 2074779392.0000 - mean_absolute_error: 41906.3398 - val_loss: 2161009152.0000 - val_mean_absolute_error: 42818.7383\n",
            "Epoch 26/50\n",
            "\u001b[1m20/20\u001b[0m \u001b[32m━━━━━━━━━━━━━━━━━━━━\u001b[0m\u001b[37m\u001b[0m \u001b[1m0s\u001b[0m 3ms/step - loss: 2087531392.0000 - mean_absolute_error: 41903.2969 - val_loss: 2146742656.0000 - val_mean_absolute_error: 42684.4375\n",
            "Epoch 27/50\n",
            "\u001b[1m20/20\u001b[0m \u001b[32m━━━━━━━━━━━━━━━━━━━━\u001b[0m\u001b[37m\u001b[0m \u001b[1m0s\u001b[0m 3ms/step - loss: 1985029120.0000 - mean_absolute_error: 40882.5430 - val_loss: 2131395328.0000 - val_mean_absolute_error: 42539.7305\n",
            "Epoch 28/50\n",
            "\u001b[1m20/20\u001b[0m \u001b[32m━━━━━━━━━━━━━━━━━━━━\u001b[0m\u001b[37m\u001b[0m \u001b[1m0s\u001b[0m 2ms/step - loss: 1987402624.0000 - mean_absolute_error: 40876.0156 - val_loss: 2114995840.0000 - val_mean_absolute_error: 42384.9766\n",
            "Epoch 29/50\n",
            "\u001b[1m20/20\u001b[0m \u001b[32m━━━━━━━━━━━━━━━━━━━━\u001b[0m\u001b[37m\u001b[0m \u001b[1m0s\u001b[0m 2ms/step - loss: 2054232576.0000 - mean_absolute_error: 41693.8594 - val_loss: 2097505664.0000 - val_mean_absolute_error: 42219.1211\n",
            "Epoch 30/50\n",
            "\u001b[1m20/20\u001b[0m \u001b[32m━━━━━━━━━━━━━━━━━━━━\u001b[0m\u001b[37m\u001b[0m \u001b[1m0s\u001b[0m 5ms/step - loss: 2000497920.0000 - mean_absolute_error: 40953.3320 - val_loss: 2078874240.0000 - val_mean_absolute_error: 42042.5664\n",
            "Epoch 31/50\n",
            "\u001b[1m20/20\u001b[0m \u001b[32m━━━━━━━━━━━━━━━━━━━━\u001b[0m\u001b[37m\u001b[0m \u001b[1m0s\u001b[0m 3ms/step - loss: 1964130176.0000 - mean_absolute_error: 40681.9062 - val_loss: 2059463680.0000 - val_mean_absolute_error: 41857.2422\n",
            "Epoch 32/50\n",
            "\u001b[1m20/20\u001b[0m \u001b[32m━━━━━━━━━━━━━━━━━━━━\u001b[0m\u001b[37m\u001b[0m \u001b[1m0s\u001b[0m 3ms/step - loss: 1951095296.0000 - mean_absolute_error: 40462.6289 - val_loss: 2038765312.0000 - val_mean_absolute_error: 41658.9492\n",
            "Epoch 33/50\n",
            "\u001b[1m20/20\u001b[0m \u001b[32m━━━━━━━━━━━━━━━━━━━━\u001b[0m\u001b[37m\u001b[0m \u001b[1m0s\u001b[0m 3ms/step - loss: 1928551680.0000 - mean_absolute_error: 40457.5117 - val_loss: 2016952704.0000 - val_mean_absolute_error: 41449.3359\n",
            "Epoch 34/50\n",
            "\u001b[1m20/20\u001b[0m \u001b[32m━━━━━━━━━━━━━━━━━━━━\u001b[0m\u001b[37m\u001b[0m \u001b[1m0s\u001b[0m 3ms/step - loss: 1845343360.0000 - mean_absolute_error: 39348.8477 - val_loss: 1994233600.0000 - val_mean_absolute_error: 41229.7734\n",
            "Epoch 35/50\n",
            "\u001b[1m20/20\u001b[0m \u001b[32m━━━━━━━━━━━━━━━━━━━━\u001b[0m\u001b[37m\u001b[0m \u001b[1m0s\u001b[0m 3ms/step - loss: 1809821440.0000 - mean_absolute_error: 39035.9453 - val_loss: 1970314240.0000 - val_mean_absolute_error: 40997.5820\n",
            "Epoch 36/50\n",
            "\u001b[1m20/20\u001b[0m \u001b[32m━━━━━━━━━━━━━━━━━━━━\u001b[0m\u001b[37m\u001b[0m \u001b[1m0s\u001b[0m 3ms/step - loss: 1819259648.0000 - mean_absolute_error: 39074.9453 - val_loss: 1945093376.0000 - val_mean_absolute_error: 40751.2695\n",
            "Epoch 37/50\n",
            "\u001b[1m20/20\u001b[0m \u001b[32m━━━━━━━━━━━━━━━━━━━━\u001b[0m\u001b[37m\u001b[0m \u001b[1m0s\u001b[0m 3ms/step - loss: 1874684416.0000 - mean_absolute_error: 39846.3438 - val_loss: 1918715648.0000 - val_mean_absolute_error: 40492.6484\n",
            "Epoch 38/50\n",
            "\u001b[1m20/20\u001b[0m \u001b[32m━━━━━━━━━━━━━━━━━━━━\u001b[0m\u001b[37m\u001b[0m \u001b[1m0s\u001b[0m 4ms/step - loss: 1808623104.0000 - mean_absolute_error: 39041.5273 - val_loss: 1892016128.0000 - val_mean_absolute_error: 40228.2031\n",
            "Epoch 39/50\n",
            "\u001b[1m20/20\u001b[0m \u001b[32m━━━━━━━━━━━━━━━━━━━━\u001b[0m\u001b[37m\u001b[0m \u001b[1m0s\u001b[0m 2ms/step - loss: 1761837696.0000 - mean_absolute_error: 38795.2812 - val_loss: 1864100864.0000 - val_mean_absolute_error: 39949.7969\n",
            "Epoch 40/50\n",
            "\u001b[1m20/20\u001b[0m \u001b[32m━━━━━━━━━━━━━━━━━━━━\u001b[0m\u001b[37m\u001b[0m \u001b[1m0s\u001b[0m 3ms/step - loss: 1735828864.0000 - mean_absolute_error: 38385.2812 - val_loss: 1835085184.0000 - val_mean_absolute_error: 39658.2109\n",
            "Epoch 41/50\n",
            "\u001b[1m20/20\u001b[0m \u001b[32m━━━━━━━━━━━━━━━━━━━━\u001b[0m\u001b[37m\u001b[0m \u001b[1m0s\u001b[0m 3ms/step - loss: 1649540864.0000 - mean_absolute_error: 37172.1523 - val_loss: 1805365632.0000 - val_mean_absolute_error: 39357.3008\n",
            "Epoch 42/50\n",
            "\u001b[1m20/20\u001b[0m \u001b[32m━━━━━━━━━━━━━━━━━━━━\u001b[0m\u001b[37m\u001b[0m \u001b[1m0s\u001b[0m 3ms/step - loss: 1684934144.0000 - mean_absolute_error: 37849.1289 - val_loss: 1774258944.0000 - val_mean_absolute_error: 39039.8555\n",
            "Epoch 43/50\n",
            "\u001b[1m20/20\u001b[0m \u001b[32m━━━━━━━━━━━━━━━━━━━━\u001b[0m\u001b[37m\u001b[0m \u001b[1m0s\u001b[0m 3ms/step - loss: 1650754560.0000 - mean_absolute_error: 37330.8984 - val_loss: 1742470528.0000 - val_mean_absolute_error: 38712.1367\n",
            "Epoch 44/50\n",
            "\u001b[1m20/20\u001b[0m \u001b[32m━━━━━━━━━━━━━━━━━━━━\u001b[0m\u001b[37m\u001b[0m \u001b[1m0s\u001b[0m 3ms/step - loss: 1626829952.0000 - mean_absolute_error: 37263.2031 - val_loss: 1709853696.0000 - val_mean_absolute_error: 38372.5664\n",
            "Epoch 45/50\n",
            "\u001b[1m20/20\u001b[0m \u001b[32m━━━━━━━━━━━━━━━━━━━━\u001b[0m\u001b[37m\u001b[0m \u001b[1m0s\u001b[0m 3ms/step - loss: 1542818560.0000 - mean_absolute_error: 36010.9531 - val_loss: 1676900480.0000 - val_mean_absolute_error: 38025.7344\n",
            "Epoch 46/50\n",
            "\u001b[1m20/20\u001b[0m \u001b[32m━━━━━━━━━━━━━━━━━━━━\u001b[0m\u001b[37m\u001b[0m \u001b[1m0s\u001b[0m 4ms/step - loss: 1473669248.0000 - mean_absolute_error: 35159.7305 - val_loss: 1643040384.0000 - val_mean_absolute_error: 37665.5820\n",
            "Epoch 47/50\n",
            "\u001b[1m20/20\u001b[0m \u001b[32m━━━━━━━━━━━━━━━━━━━━\u001b[0m\u001b[37m\u001b[0m \u001b[1m0s\u001b[0m 3ms/step - loss: 1504885120.0000 - mean_absolute_error: 35715.8594 - val_loss: 1607520896.0000 - val_mean_absolute_error: 37284.4141\n",
            "Epoch 48/50\n",
            "\u001b[1m20/20\u001b[0m \u001b[32m━━━━━━━━━━━━━━━━━━━━\u001b[0m\u001b[37m\u001b[0m \u001b[1m0s\u001b[0m 3ms/step - loss: 1474480384.0000 - mean_absolute_error: 35467.6602 - val_loss: 1572433920.0000 - val_mean_absolute_error: 36901.9180\n",
            "Epoch 49/50\n",
            "\u001b[1m20/20\u001b[0m \u001b[32m━━━━━━━━━━━━━━━━━━━━\u001b[0m\u001b[37m\u001b[0m \u001b[1m0s\u001b[0m 3ms/step - loss: 1434908416.0000 - mean_absolute_error: 34898.2852 - val_loss: 1536671744.0000 - val_mean_absolute_error: 36507.9297\n",
            "Epoch 50/50\n",
            "\u001b[1m20/20\u001b[0m \u001b[32m━━━━━━━━━━━━━━━━━━━━\u001b[0m\u001b[37m\u001b[0m \u001b[1m0s\u001b[0m 3ms/step - loss: 1498119168.0000 - mean_absolute_error: 36078.9414 - val_loss: 1499612416.0000 - val_mean_absolute_error: 36094.4609\n"
          ]
        }
      ]
    },
    {
      "cell_type": "code",
      "source": [
        "# Evaluating the model\n",
        "loss, mae = model.evaluate(X_test, y_test, verbose=0)\n",
        "print(f\"Mean Absolute Error on Test Data: ${mae:.2f}\")"
      ],
      "metadata": {
        "colab": {
          "base_uri": "https://localhost:8080/"
        },
        "id": "tE9wN7scjFHd",
        "outputId": "d7466343-5101-4fe4-fe40-a644dd063420"
      },
      "execution_count": 8,
      "outputs": [
        {
          "output_type": "stream",
          "name": "stdout",
          "text": [
            "Mean Absolute Error on Test Data: $35366.84\n"
          ]
        }
      ]
    },
    {
      "cell_type": "code",
      "source": [
        "# Predicting on new data\n",
        "new_data = np.array([[3.0, 25.0, 5.0, 60000]])  # Example input: Engine size, fuel efficiency, age, mileage\n",
        "new_data_scaled = scaler.transform(new_data)\n",
        "prediction = model.predict(new_data_scaled)\n",
        "print(f\"Predicted Car Price: ${prediction[0][0]:.2f}\")"
      ],
      "metadata": {
        "colab": {
          "base_uri": "https://localhost:8080/"
        },
        "id": "CP3M8DnPjIEF",
        "outputId": "4d077638-592a-490c-e1f3-c79d39a21af8"
      },
      "execution_count": 9,
      "outputs": [
        {
          "output_type": "stream",
          "name": "stdout",
          "text": [
            "\u001b[1m1/1\u001b[0m \u001b[32m━━━━━━━━━━━━━━━━━━━━\u001b[0m\u001b[37m\u001b[0m \u001b[1m0s\u001b[0m 81ms/step\n",
            "Predicted Car Price: $12590.89\n"
          ]
        }
      ]
    },
    {
      "cell_type": "code",
      "source": [
        "# Plotting the training history\n",
        "import matplotlib.pyplot as plt\n",
        "plt.plot(history.history['loss'], label='Training Loss')\n",
        "plt.plot(history.history['val_loss'], label='Validation Loss')\n",
        "plt.xlabel('Epochs')\n",
        "plt.ylabel('Loss')\n",
        "plt.legend()\n",
        "plt.title('Training and Validation Loss')\n",
        "plt.show()"
      ],
      "metadata": {
        "colab": {
          "base_uri": "https://localhost:8080/",
          "height": 472
        },
        "id": "ktS_yf1AjJ8-",
        "outputId": "271991f6-6d93-43df-c131-8630a98f29b0"
      },
      "execution_count": 10,
      "outputs": [
        {
          "output_type": "display_data",
          "data": {
            "text/plain": [
              "<Figure size 640x480 with 1 Axes>"
            ],
            "image/png": "[encoded data removed]"
          },
          "metadata": {}
        }
      ]
    }
  ]
}