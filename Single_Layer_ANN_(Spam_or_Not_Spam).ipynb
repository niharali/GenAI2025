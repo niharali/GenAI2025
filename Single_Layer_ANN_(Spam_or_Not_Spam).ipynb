{
  "nbformat": 4,
  "nbformat_minor": 0,
  "metadata": {
    "colab": {
      "provenance": []
    },
    "kernelspec": {
      "name": "python3",
      "display_name": "Python 3"
    },
    "language_info": {
      "name": "python"
    }
  },
  "cells": [
    {
      "cell_type": "code",
      "execution_count": 1,
      "metadata": {
        "id": "1A5HXRLMWpQZ"
      },
      "outputs": [],
      "source": [
        "import numpy as np"
      ]
    },
    {
      "cell_type": "code",
      "source": [
        "def sigmoid(x):\n",
        "    return 1 / (1 + np.exp(-x))"
      ],
      "metadata": {
        "id": "moXNmHd9Ws-y"
      },
      "execution_count": 2,
      "outputs": []
    },
    {
      "cell_type": "code",
      "source": [
        "def sigmoid_derivative(x):\n",
        "    return x * (1 - x)"
      ],
      "metadata": {
        "id": "SJNSXc2qWv6-"
      },
      "execution_count": 3,
      "outputs": []
    },
    {
      "cell_type": "code",
      "source": [
        "# Input dataset (features of emails: e.g., [word frequency, subject length])\n",
        "X = np.array([[0.2, 0.8],\n",
        "              [0.5, 0.4],\n",
        "              [0.9, 0.1],\n",
        "              [0.3, 0.7]])\n",
        "y=np.array([[0],[1],[1],[0]])"
      ],
      "metadata": {
        "id": "kWdXuh8SWy1_"
      },
      "execution_count": 4,
      "outputs": []
    },
    {
      "cell_type": "code",
      "source": [
        "np.random.seed(42)\n",
        "weights=np.random.uniform(size=(X.shape[1],1))\n",
        "bias=np.random.uniform(size=(1,))"
      ],
      "metadata": {
        "id": "KbPp1FWcXIUJ"
      },
      "execution_count": 5,
      "outputs": []
    },
    {
      "cell_type": "markdown",
      "source": [
        "**Training the single layer ANN**"
      ],
      "metadata": {
        "id": "DZun9oCyXxCZ"
      }
    },
    {
      "cell_type": "code",
      "source": [
        "learning_rate=0.1\n",
        "epochs=1000"
      ],
      "metadata": {
        "id": "KZgyjTmkXZQ6"
      },
      "execution_count": 6,
      "outputs": []
    },
    {
      "cell_type": "code",
      "source": [
        "for epoch in range(epochs):\n",
        "    # Forward propagation\n",
        "    z = np.dot(X, weights) + bias  # Weighted sum\n",
        "    output = sigmoid(z)  # Apply activation function\n",
        "\n",
        "    # Compute error\n",
        "    error = y - output\n",
        "\n",
        "    # Backpropagation\n",
        "    output_gradient = error * sigmoid_derivative(output)  # Error gradient\n",
        "    weights_gradient = np.dot(X.T, output_gradient)  # Weight updates\n",
        "\n",
        "    # Update weights and bias\n",
        "    weights += learning_rate * weights_gradient\n",
        "    bias += learning_rate * np.sum(output_gradient)\n",
        "\n",
        "    # Print loss every 1000 epochs\n",
        "    if epoch % 1000 == 0:\n",
        "        loss = np.mean(np.square(error))\n",
        "        print(f\"Epoch {epoch}, Loss: {loss}\")"
      ],
      "metadata": {
        "colab": {
          "base_uri": "https://localhost:8080/"
        },
        "id": "B1CeWW6vXhhk",
        "outputId": "c9f58b2a-0fcc-4e8a-f873-e6821b0541f3"
      },
      "execution_count": 7,
      "outputs": [
        {
          "output_type": "stream",
          "name": "stdout",
          "text": [
            "Epoch 0, Loss: 0.3644893514453517\n"
          ]
        }
      ]
    },
    {
      "cell_type": "code",
      "source": [
        "# Test the model\n",
        "print(\"\\nTrained Model Output:\")\n",
        "for i, input_data in enumerate(X):\n",
        "    z = np.dot(input_data, weights) + bias\n",
        "    prediction = sigmoid(z)\n",
        "    print(f\"Input: {input_data}, Predicted Output: {prediction[0]:.4f}, Actual Output: {y[i][0]}\")\n"
      ],
      "metadata": {
        "colab": {
          "base_uri": "https://localhost:8080/"
        },
        "id": "z7xS6QBWXmHS",
        "outputId": "c1a83699-ecd3-474a-f365-ba670e165dd7"
      },
      "execution_count": 8,
      "outputs": [
        {
          "output_type": "stream",
          "name": "stdout",
          "text": [
            "\n",
            "Trained Model Output:\n",
            "Input: [0.2 0.8], Predicted Output: 0.1361, Actual Output: 0\n",
            "Input: [0.5 0.4], Predicted Output: 0.6882, Actual Output: 1\n",
            "Input: [0.9 0.1], Predicted Output: 0.9689, Actual Output: 1\n",
            "Input: [0.3 0.7], Predicted Output: 0.2510, Actual Output: 0\n"
          ]
        }
      ]
    },
    {
      "cell_type": "code",
      "source": [
        "# Test on new data\n",
        "test_data = np.array([[0.4, 0.6], [0.8, 0.2]])\n",
        "print(\"\\nTesting on New Data:\")\n",
        "for input_data in test_data:\n",
        "    z = np.dot(input_data, weights) + bias\n",
        "    prediction = sigmoid(z)\n",
        "    print(f\"Input: {input_data}, Predicted Output: {prediction[0]:.4f} (Spam if > 0.5)\")"
      ],
      "metadata": {
        "colab": {
          "base_uri": "https://localhost:8080/"
        },
        "id": "xBxCU4fFXp9m",
        "outputId": "a286fb0a-93b9-48c8-a84e-26174f028ae1"
      },
      "execution_count": 9,
      "outputs": [
        {
          "output_type": "stream",
          "name": "stdout",
          "text": [
            "\n",
            "Testing on New Data:\n",
            "Input: [0.4 0.6], Predicted Output: 0.4163 (Spam if > 0.5)\n",
            "Input: [0.8 0.2], Predicted Output: 0.9360 (Spam if > 0.5)\n"
          ]
        }
      ]
    }
  ]
}